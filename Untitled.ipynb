{
 "cells": [
  {
   "cell_type": "code",
   "execution_count": 1,
   "id": "8af62696",
   "metadata": {},
   "outputs": [],
   "source": [
    "data=[16,21,15,7,86,57,97,4,5,6,8,33,84,44,23,43,11,43,20,2]"
   ]
  },
  {
   "cell_type": "code",
   "execution_count": 2,
   "id": "29da62b2",
   "metadata": {},
   "outputs": [],
   "source": [
    "data.sort()"
   ]
  },
  {
   "cell_type": "code",
   "execution_count": 3,
   "id": "f862beb6",
   "metadata": {},
   "outputs": [
    {
     "name": "stdout",
     "output_type": "stream",
     "text": [
      "[2, 4, 5, 6, 7, 8, 11, 15, 16, 20, 21, 23, 33, 43, 43, 44, 57, 84, 86, 97]\n"
     ]
    }
   ],
   "source": [
    "print(data)"
   ]
  },
  {
   "cell_type": "code",
   "execution_count": 4,
   "id": "534f4f15",
   "metadata": {},
   "outputs": [
    {
     "name": "stdout",
     "output_type": "stream",
     "text": [
      "enter a element15\n"
     ]
    }
   ],
   "source": [
    "elem = int(input(\"enter a element\"))"
   ]
  },
  {
   "cell_type": "code",
   "execution_count": 9,
   "id": "e44e83de",
   "metadata": {},
   "outputs": [],
   "source": [
    "def binary_search(data,elem):\n",
    "    low =0\n",
    "    high=len(data) -1\n",
    "    while low <= high:\n",
    "        middle =(low +high)//2\n",
    "        if data[middle] == elem:\n",
    "            print(f\"the searching element {elem} is present at index value {middle} in dataset\")\n",
    "            break\n",
    "            \n",
    "        elif data[middle] > elem:\n",
    "            high = middle - 1 \n",
    "            \n",
    "        else: \n",
    "            low =middle + 1\n",
    "            \n",
    "    if data[middle] !=elem:\n",
    "        print(f\"the searching element {elem} is not present in the dataset\")\n",
    "        return -1"
   ]
  },
  {
   "cell_type": "code",
   "execution_count": 10,
   "id": "0405b864",
   "metadata": {},
   "outputs": [
    {
     "name": "stdout",
     "output_type": "stream",
     "text": [
      "the searching element 15 is present at index value 7 in dataset\n"
     ]
    }
   ],
   "source": [
    "binary_search(data,elem)"
   ]
  },
  {
   "cell_type": "code",
   "execution_count": 19,
   "id": "ca7226d7",
   "metadata": {
    "scrolled": false
   },
   "outputs": [
    {
     "name": "stdout",
     "output_type": "stream",
     "text": [
      "before sorting the array in ascending order:\n",
      "[-2, 45, 8, 11, 46, 49, 23, 34, 14, 17, 7, 9, 5]\n",
      "after before sorting the array in ascending array:\n",
      "[-2, 5, 7, 8, 9, 11, 14, 17, 23, 34, 45, 46, 49]\n"
     ]
    }
   ],
   "source": [
    "data = [-2,45,8,11,46,49,23,34,14,17,7,9,5]\n",
    "def bubblesort(data):\n",
    "    \n",
    "    for i in range(len(data)):\n",
    "        for j in range(0,len(data) - i - 1):\n",
    "     \n",
    "          if data[j] > data[ j +1]:\n",
    "            \n",
    "            temp = data[j]\n",
    "            data[j] =data[j+1]\n",
    "            data[j+1] =temp\n",
    "                \n",
    "print (\"before sorting the array in ascending order:\")\n",
    "print(data)\n",
    "\n",
    "bubblesort(data)\n",
    "\n",
    "print('after before sorting the array in ascending array:')\n",
    "print(data)"
   ]
  },
  {
   "cell_type": "code",
   "execution_count": null,
   "id": "f13406c1",
   "metadata": {},
   "outputs": [],
   "source": []
  }
 ],
 "metadata": {
  "kernelspec": {
   "display_name": "Python 3 (ipykernel)",
   "language": "python",
   "name": "python3"
  },
  "language_info": {
   "codemirror_mode": {
    "name": "ipython",
    "version": 3
   },
   "file_extension": ".py",
   "mimetype": "text/x-python",
   "name": "python",
   "nbconvert_exporter": "python",
   "pygments_lexer": "ipython3",
   "version": "3.9.13"
  }
 },
 "nbformat": 4,
 "nbformat_minor": 5
}
